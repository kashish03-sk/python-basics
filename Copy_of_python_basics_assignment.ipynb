{
  "nbformat": 4,
  "nbformat_minor": 0,
  "metadata": {
    "colab": {
      "provenance": []
    },
    "kernelspec": {
      "name": "python3",
      "display_name": "Python 3"
    },
    "language_info": {
      "name": "python"
    }
  },
  "cells": [
    {
      "cell_type": "markdown",
      "source": [
        "#python basics questions"
      ],
      "metadata": {
        "id": "k0TCNkMTQUUm"
      }
    },
    {
      "cell_type": "markdown",
      "source": [
        " 1.what is python and why is it popular?\n",
        "\n",
        "-Python is a high-level, interpreted programming language known for its simplicity, readability, and versatility. It was created by Guido van Rossum and first released in 1991. Python emphasizes code readability and uses indentation to define code blocks, making it intuitive and easy to learn, especially for beginners.\n",
        "Python is popular because it balances power with simplicity, making it a go-to language for both beginners and experts across a wide range of domains.\n",
        "\n",
        "2. What is an interpreter in Python?\n",
        "\n",
        "-An interpreter in Python is a program that reads and executes Python code line by line, rather than compiling it all at once before running.\n",
        "\n",
        "3. What are pre-defined keywords in Python?\n",
        "\n",
        "-Pre-defined keywords in Python are reserved words that have special meaning in the language. These words are built into Python’s syntax, so you can’t use them as variable names, function names, or identifiers.\n",
        "\n",
        "4. Can keywords be used as variable names?\n",
        "\n",
        "-No,Keywords are reserved by the Python language for specific syntax and behavior. Using them as variable names would confuse the interpreter and lead to errors.\n",
        "\n",
        "5. What is mutability in Python?\n",
        "\n",
        "-Mutability in Python refers to whether or not an object’s value can be changed after it is created.\n",
        "\n",
        "a)A mutable object can be changed in place.\n",
        "\n",
        "b)An immutable object cannot be changed after it is created — any \"change\" creates a new object.\n",
        "\n",
        "6. Why are lists mutable, but tuples are immutable?\n",
        "\n",
        "-Lists are designed for dynamic data — data that might need to change (add, remove, or update items).Tuples are used for fixed collections of items, like coordinates, database keys, or grouped data you don't want accidentally changed.\n",
        "\n",
        "7. What is the difference between “==” and “is” operators in Python?\n",
        "\n",
        "- == → Equality Operator\n",
        "Checks if two variables have the same value.Compares contents.\n",
        "\n",
        " is → Identity Operator\n",
        "Checks if two variables point to the same object in memory.\n",
        "Compares identity, not content.\n",
        "\n",
        "8.What are logical operators in Python?\n",
        "\n",
        "-Logical operators are used to combine conditional statements and control the flow of logic in your code. They evaluate Boolean expressions (True or False).\n",
        "\n",
        "9.What is type casting in Python?\n",
        "\n",
        "-Type casting (also called type conversion) is the process of converting one data type into another.\n",
        "In Python, this is often done explicitly using built-in functions like int(), float(), str(), etc.\n",
        "\n",
        "10. What is the difference between implicit and explicit type casting?\n",
        "\n",
        "- implicit typecasting-            |\n",
        ".Done automatically\n",
        ".Happens during operations\n",
        ".Less control\n",
        "\n",
        " explicit typecasting-\n",
        " .Done manually by the programmer\n",
        " .Happens when you call a casting function\n",
        " .More control over conversion\n",
        "\n",
        " 11. What is the purpose of conditional statements in Python?\n",
        "\n",
        " -Conditional statements are used to make decisions in your code. They allow your program to execute certain blocks of code only if specific conditions are true, enabling dynamic behavior based on different inputs or situations.\n",
        "\n",
        " 12. How does the elif statement work?\n",
        "\n",
        " -elif stands for \"else if.\"\n",
        "\n",
        "It lets you check multiple conditions one after another.\n",
        "\n",
        "It comes after an if statement and before an optional else.\n",
        "\n",
        "\n",
        "13. What is the difference between for and while loops?\n",
        "\n",
        "-Use for loops when you have a fixed collection or known range to iterate over.\n",
        "\n",
        "Use while loops when you want to keep looping based on a condition that might change in unpredictable ways.\n",
        "\n",
        "14. Describe a scenario where a while loop is more suitable than a for loop?\n",
        "\n",
        "-Scenario: Waiting for User to Provide Valid Input\n",
        "\n",
        "Imagine you want to keep asking the user to enter a positive number until they actually enter one.You don’t know how many times the user might enter invalid input, so you can’t predetermine the number of iterations. This is perfect for a while loop.\n",
        "\n",
        "\n",
        "\n",
        "\n",
        "\n"
      ],
      "metadata": {
        "id": "K22-3X7GRDwh"
      }
    },
    {
      "cell_type": "markdown",
      "source": [
        "# practical questions\n"
      ],
      "metadata": {
        "id": "bYcpFyjgQ1J8"
      }
    },
    {
      "cell_type": "code",
      "source": [
        "#1  Write a Python program to print \"Hello, World!\"\n",
        "print(\"hello,world!\")\n",
        "\n"
      ],
      "metadata": {
        "colab": {
          "base_uri": "https://localhost:8080/"
        },
        "id": "PNDlD3tub0en",
        "outputId": "773aded4-a83a-4a55-ffb3-a58d92cc9d35"
      },
      "execution_count": null,
      "outputs": [
        {
          "output_type": "stream",
          "name": "stdout",
          "text": [
            "hello,world!\n"
          ]
        }
      ]
    },
    {
      "cell_type": "code",
      "source": [
        "#2 Write a Python program that displays your name and age\n",
        "name=\"kashish sharma\"\n",
        "age=\"20 years old\"\n",
        "print(\"my name is\",name)\n",
        "print(\"i'm\",age)\n"
      ],
      "metadata": {
        "colab": {
          "base_uri": "https://localhost:8080/"
        },
        "id": "u8_WC8vacdPh",
        "outputId": "d2157b59-128e-4fd7-ca4a-30f92059a037"
      },
      "execution_count": null,
      "outputs": [
        {
          "output_type": "stream",
          "name": "stdout",
          "text": [
            "my name is kashish sharma\n",
            "i'm 20 years old\n"
          ]
        }
      ]
    },
    {
      "cell_type": "code",
      "source": [
        "#3  Write code to print all the pre-defined keywords in Python using the keyword library\n",
        "import keyword\n",
        "print(\"List of all Python keywords: \")\n",
        "for kw in keyword.kwlist:\n",
        "    print(kw)\n",
        "\n"
      ],
      "metadata": {
        "colab": {
          "base_uri": "https://localhost:8080/"
        },
        "id": "xfDc6jI1eqZB",
        "outputId": "f2028f2b-f1ac-4604-df5b-394d317ee82d"
      },
      "execution_count": null,
      "outputs": [
        {
          "output_type": "stream",
          "name": "stdout",
          "text": [
            "List of all Python keywords: \n",
            "False\n",
            "None\n",
            "True\n",
            "and\n",
            "as\n",
            "assert\n",
            "async\n",
            "await\n",
            "break\n",
            "class\n",
            "continue\n",
            "def\n",
            "del\n",
            "elif\n",
            "else\n",
            "except\n",
            "finally\n",
            "for\n",
            "from\n",
            "global\n",
            "if\n",
            "import\n",
            "in\n",
            "is\n",
            "lambda\n",
            "nonlocal\n",
            "not\n",
            "or\n",
            "pass\n",
            "raise\n",
            "return\n",
            "try\n",
            "while\n",
            "with\n",
            "yield\n"
          ]
        }
      ]
    },
    {
      "cell_type": "code",
      "source": [
        "#4  Write a program that checks if a given word is a Python keyword.\n",
        "import keyword\n",
        "\n",
        "# Get user input\n",
        "word = input(\"Enter a word to check: \")\n",
        "\n",
        "# Check if it's a Python keyword\n",
        "if keyword.iskeyword(word):\n",
        "    print(f\"'{word}' is a Python keyword.\")\n",
        "else:\n",
        "    print(f\"'{word}' is NOT a Python keyword.\")\n"
      ],
      "metadata": {
        "colab": {
          "base_uri": "https://localhost:8080/"
        },
        "outputId": "cd70047c-1a64-4f7a-f084-e15d602ee5e9",
        "id": "DR5Rqt0ZfkVJ"
      },
      "execution_count": null,
      "outputs": [
        {
          "output_type": "stream",
          "name": "stdout",
          "text": [
            "Enter a word to check: while\n",
            "'while' is a Python keyword.\n"
          ]
        }
      ]
    },
    {
      "cell_type": "code",
      "source": [
        "\"\"\"\n",
        "5.Create a list and tuple in Python, and demonstrate how attempting to change an element works differently\n",
        "for each\n",
        "\n",
        "\"\"\"\n",
        "# Create a list and a tuple\n",
        "my_list = [10, 20, 30]\n",
        "my_tuple = (10, 20, 30)\n",
        "\n",
        "# Modify an element in the list\n",
        "print(\"Original list:\", my_list)\n",
        "my_list[1] = 99\n",
        "print(\"Modified list:\", my_list)\n",
        "\n",
        "# Attempt to modify an element in the tuple\n",
        "print(\"\\nOriginal tuple:\", my_tuple)\n",
        "try:\n",
        "    my_tuple[1] = 99\n",
        "except TypeError as e:\n",
        "    print(\"Error when trying to modify tuple:\", e)"
      ],
      "metadata": {
        "colab": {
          "base_uri": "https://localhost:8080/"
        },
        "id": "HAeosgkjiSwH",
        "outputId": "3551ae80-1d73-469b-da92-bd64cef0fe72"
      },
      "execution_count": null,
      "outputs": [
        {
          "output_type": "stream",
          "name": "stdout",
          "text": [
            "Original list: [10, 20, 30]\n",
            "Modified list: [10, 99, 30]\n",
            "\n",
            "Original tuple: (10, 20, 30)\n",
            "Error when trying to modify tuple: 'tuple' object does not support item assignment\n"
          ]
        }
      ]
    },
    {
      "cell_type": "code",
      "source": [
        "#6. Write a function to demonstrate the behavior of mutable and immutable arguments.\n",
        "def demonstrate_mutable_and_immutable(x, my_list):\n",
        "    print(\"Inside function BEFORE modification:\")\n",
        "    print(\"x =\", x)\n",
        "    print(\"my_list =\", my_list)\n",
        "\n",
        "    # Try to modify both\n",
        "    x += 10              # Immutable (int) — creates a new object\n",
        "    my_list.append(100)  # Mutable (list) — modifies original object\n",
        "\n",
        "    print(\"\\nInside function AFTER modification:\")\n",
        "    print(\"x =\", x)\n",
        "    print(\"my_list =\", my_list)\n",
        "\n",
        "# Immutable argument\n",
        "num = 5\n",
        "\n",
        "# Mutable argument\n",
        "numbers = [1, 2, 3]\n",
        "\n",
        "# Call the function\n",
        "demonstrate_mutable_and_immutable(num, numbers)\n",
        "\n",
        "print(\"\\nOutside function:\")\n",
        "print(\"num =\", num)         # Will remain 5\n",
        "print(\"numbers =\", numbers) # Will include 100\n"
      ],
      "metadata": {
        "colab": {
          "base_uri": "https://localhost:8080/"
        },
        "id": "skXkzpkDkRvD",
        "outputId": "d75504fa-fd4d-4c78-dc0c-30b07e22d3a1"
      },
      "execution_count": null,
      "outputs": [
        {
          "output_type": "stream",
          "name": "stdout",
          "text": [
            "Inside function BEFORE modification:\n",
            "x = 5\n",
            "my_list = [1, 2, 3]\n",
            "\n",
            "Inside function AFTER modification:\n",
            "x = 15\n",
            "my_list = [1, 2, 3, 100]\n",
            "\n",
            "Outside function:\n",
            "num = 5\n",
            "numbers = [1, 2, 3, 100]\n"
          ]
        }
      ]
    },
    {
      "cell_type": "code",
      "source": [
        "#7. Write a program that performs basic arithmetic operations on two user-input numbers.\n",
        "# Get user input\n",
        "num1 = float(input(\"Enter the first number: \"))\n",
        "num2 = float(input(\"Enter the second number: \"))\n",
        "\n",
        "# Perform arithmetic operations\n",
        "addition = num1 + num2\n",
        "subtraction = num1 - num2\n",
        "multiplication = num1 * num2\n",
        "\n",
        "# Handle division safely\n",
        "if num2 != 0:\n",
        "    division = num1 / num2\n",
        "else:\n",
        "    division = \"Undefined (cannot divide by zero)\"\n",
        "\n",
        "# Display results\n",
        "print(\"\\nResults:\")\n",
        "print(f\"Addition: {num1} + {num2} = {addition}\")\n",
        "print(f\"Subtraction: {num1} - {num2} = {subtraction}\")\n",
        "print(f\"Multiplication: {num1} * {num2} = {multiplication}\")\n",
        "print(f\"Division: {num1} / {num2} = {division}\")\n"
      ],
      "metadata": {
        "colab": {
          "base_uri": "https://localhost:8080/"
        },
        "id": "dCMtfSsFlN5v",
        "outputId": "04048dd8-d079-477d-fd1f-fec65aabd9d3"
      },
      "execution_count": null,
      "outputs": [
        {
          "output_type": "stream",
          "name": "stdout",
          "text": [
            "Enter the first number: 10\n",
            "Enter the second number: 10\n",
            "\n",
            "Results:\n",
            "Addition: 10.0 + 10.0 = 20.0\n",
            "Subtraction: 10.0 - 10.0 = 0.0\n",
            "Multiplication: 10.0 * 10.0 = 100.0\n",
            "Division: 10.0 / 10.0 = 1.0\n"
          ]
        }
      ]
    },
    {
      "cell_type": "code",
      "source": [
        "#8  Write a program to demonstrate the use of logical operators\n",
        "# Define two Boolean variables\n",
        "is_sunny = True\n",
        "is_weekend = False\n",
        "\n",
        "# Demonstrate 'and' operator\n",
        "if is_sunny and is_weekend:\n",
        "    print(\"Let's go to the beach!\")\n",
        "else:\n",
        "    print(\"Not the right time for the beach.\")\n",
        "\n",
        "# Demonstrate 'or' operator\n",
        "if is_sunny or is_weekend:\n",
        "    print(\"You can still enjoy your day!\")\n",
        "\n",
        "# Demonstrate 'not' operator\n",
        "if not is_weekend:\n",
        "    print(\"It's a weekday, time to work or study!\")\n"
      ],
      "metadata": {
        "colab": {
          "base_uri": "https://localhost:8080/"
        },
        "id": "EDMsDV6Ul64O",
        "outputId": "fb44d166-55bc-45cb-9579-5735fb3eba8b"
      },
      "execution_count": null,
      "outputs": [
        {
          "output_type": "stream",
          "name": "stdout",
          "text": [
            "Not the right time for the beach.\n",
            "You can still enjoy your day!\n",
            "It's a weekday, time to work or study!\n"
          ]
        }
      ]
    },
    {
      "cell_type": "code",
      "source": [
        "#9 . Write a Python program to convert user input from string to integer, float, and boolean types.\n",
        "# Take input from the user\n",
        "user_input = input(\"Enter a value: \")\n",
        "\n",
        "# Convert to integer\n",
        "try:\n",
        "    int_value = int(user_input)\n",
        "    print(\"Integer value:\", int_value)\n",
        "except ValueError:\n",
        "    print(\"Cannot convert to integer.\")\n",
        "\n",
        "# Convert to float\n",
        "try:\n",
        "    float_value = float(user_input)\n",
        "    print(\"Float value:\", float_value)\n",
        "except ValueError:\n",
        "    print(\"Cannot convert to float.\")\n",
        "\n",
        "# Convert to boolean\n",
        "# Non-empty strings are considered True, except for '0', 'false', 'no'\n",
        "false_values = [\"0\", \"false\", \"no\", \"False\", \"No\"]\n",
        "bool_value = user_input not in false_values and user_input.strip() != \"\"\n",
        "print(\"Boolean value:\", bool_value)\n"
      ],
      "metadata": {
        "colab": {
          "base_uri": "https://localhost:8080/"
        },
        "id": "81BBbbzEmcqB",
        "outputId": "ceee6255-65c9-4743-bf58-168e9cc3e499"
      },
      "execution_count": null,
      "outputs": [
        {
          "output_type": "stream",
          "name": "stdout",
          "text": [
            "Enter a value: 20\n",
            "Integer value: 20\n",
            "Float value: 20.0\n",
            "Boolean value: True\n"
          ]
        }
      ]
    },
    {
      "cell_type": "code",
      "source": [
        "#10 . Write code to demonstrate type casting with list elements.\n",
        "# Original list with string numbers\n",
        "str_numbers = [\"10\", \"20\", \"30\", \"40\"]\n",
        "\n",
        "# Convert list of strings to list of integers using type casting\n",
        "int_numbers = [int(num) for num in str_numbers]\n",
        "\n",
        "print(\"Original list (strings):\", str_numbers)\n",
        "print(\"Converted list (integers):\", int_numbers)\n",
        "\n",
        "# Now convert integers to floats\n",
        "float_numbers = [float(num) for num in int_numbers]\n",
        "\n",
        "print(\"Converted list (floats):\", float_numbers)\n"
      ],
      "metadata": {
        "colab": {
          "base_uri": "https://localhost:8080/"
        },
        "id": "-J4Qewaem9vh",
        "outputId": "d6f77b21-6e4c-4236-ce8f-b82ea1e2636b"
      },
      "execution_count": null,
      "outputs": [
        {
          "output_type": "stream",
          "name": "stdout",
          "text": [
            "Original list (strings): ['10', '20', '30', '40']\n",
            "Converted list (integers): [10, 20, 30, 40]\n",
            "Converted list (floats): [10.0, 20.0, 30.0, 40.0]\n"
          ]
        }
      ]
    },
    {
      "cell_type": "code",
      "source": [
        "#11  Write a program that checks if a number is positive, negative, or zero.\n",
        "# Take user input and convert to float\n",
        "num = float(input(\"Enter a number: \"))\n",
        "\n",
        "# Check if positive, negative, or zero\n",
        "if num > 0:\n",
        "    print(\"The number is positive.\")\n",
        "elif num < 0:\n",
        "    print(\"The number is negative.\")\n",
        "else:\n",
        "    print(\"The number is zero.\")\n"
      ],
      "metadata": {
        "colab": {
          "base_uri": "https://localhost:8080/"
        },
        "id": "sh0AsJk1nSYb",
        "outputId": "93308a1c-5e1e-4524-f202-a23fda8f1b84"
      },
      "execution_count": null,
      "outputs": [
        {
          "output_type": "stream",
          "name": "stdout",
          "text": [
            "Enter a number: 30\n",
            "The number is positive.\n"
          ]
        }
      ]
    },
    {
      "cell_type": "code",
      "source": [
        "#12. Write a for loop to print numbers from 1 to 10.\n",
        "lst=(1,2,3,4,5,6,7,8,9,10)\n",
        "for num in lst:\n",
        "  print(num)"
      ],
      "metadata": {
        "colab": {
          "base_uri": "https://localhost:8080/"
        },
        "id": "6zR9kAPwnpXM",
        "outputId": "3a751469-808a-4c32-dc96-bab5cb09fc4e"
      },
      "execution_count": null,
      "outputs": [
        {
          "output_type": "stream",
          "name": "stdout",
          "text": [
            "1\n",
            "2\n",
            "3\n",
            "4\n",
            "5\n",
            "6\n",
            "7\n",
            "8\n",
            "9\n",
            "10\n"
          ]
        }
      ]
    },
    {
      "cell_type": "code",
      "source": [
        "#13 . Write a Python program to find the sum of all even numbers between 1 and 50.\n",
        "# Initialize sum variable\n",
        "total = 0\n",
        "\n",
        "# Loop through numbers from 1 to 50\n",
        "for num in range(1, 51):\n",
        "    if num % 2 == 0:  # Check if the number is even\n",
        "        total += num\n",
        "\n",
        "print(\"Sum of all even numbers between 1 and 50 is:\", total)\n"
      ],
      "metadata": {
        "colab": {
          "base_uri": "https://localhost:8080/"
        },
        "id": "ecE-WFGhoLGn",
        "outputId": "29095aab-a474-40ed-9156-5418621d519c"
      },
      "execution_count": null,
      "outputs": [
        {
          "output_type": "stream",
          "name": "stdout",
          "text": [
            "Sum of all even numbers between 1 and 50 is: 650\n"
          ]
        }
      ]
    },
    {
      "cell_type": "code",
      "source": [
        "#14  Write a program to reverse a string using a while loop.\n",
        "# Input string from the user\n",
        "string = input(\"Enter a string: \")\n",
        "\n",
        "# Initialize an empty string for the reversed version\n",
        "reversed_string = \"\"\n",
        "\n",
        "# Start from the last character index\n",
        "index = len(string) - 1\n",
        "\n",
        "# Loop backwards using while\n",
        "while index >= 0:\n",
        "    reversed_string += string[index]\n",
        "    index -= 1\n",
        "\n",
        "# Print the reversed string\n",
        "print(\"Reversed string:\", reversed_string)\n"
      ],
      "metadata": {
        "colab": {
          "base_uri": "https://localhost:8080/"
        },
        "id": "YhCpzGY6o-nh",
        "outputId": "3e8fe606-9e87-4325-8a14-a49314d35256"
      },
      "execution_count": null,
      "outputs": [
        {
          "output_type": "stream",
          "name": "stdout",
          "text": [
            "Enter a string: python\n",
            "Reversed string: nohtyp\n"
          ]
        }
      ]
    },
    {
      "cell_type": "code",
      "source": [
        "#15 . Write a Python program to calculate the factorial of a number provided by the user using a while loop.\n",
        "# Take input from the user\n",
        "num = int(input(\"Enter a non-negative integer: \"))\n",
        "\n",
        "# Check for valid input\n",
        "if num < 0:\n",
        "    print(\"Factorial is not defined for negative numbers.\")\n",
        "else:\n",
        "    factorial = 1\n",
        "    i = 1\n",
        "    while i <= num:\n",
        "        factorial *= i\n",
        "        i += 1\n",
        "    print(f\"Factorial of {num} is {factorial}\")\n"
      ],
      "metadata": {
        "colab": {
          "base_uri": "https://localhost:8080/"
        },
        "id": "Tz4bSSvmpWzQ",
        "outputId": "cf28ed7d-69e5-4a37-b7e2-65d6409e1b26"
      },
      "execution_count": null,
      "outputs": [
        {
          "output_type": "stream",
          "name": "stdout",
          "text": [
            "Enter a non-negative integer: 25\n",
            "Factorial of 25 is 15511210043330985984000000\n"
          ]
        }
      ]
    }
  ]
}