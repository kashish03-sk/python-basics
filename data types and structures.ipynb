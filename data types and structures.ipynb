{
  "nbformat": 4,
  "nbformat_minor": 0,
  "metadata": {
    "colab": {
      "provenance": [],
      "authorship_tag": "ABX9TyMWc9ycrXgwqtZ2nPp5jat3",
      "include_colab_link": true
    },
    "kernelspec": {
      "name": "python3",
      "display_name": "Python 3"
    },
    "language_info": {
      "name": "python"
    }
  },
  "cells": [
    {
      "cell_type": "markdown",
      "metadata": {
        "id": "view-in-github",
        "colab_type": "text"
      },
      "source": [
        "<a href=\"https://colab.research.google.com/github/kashish03-sk/python-basics/blob/main/data%20types%20and%20structures.ipynb\" target=\"_parent\"><img src=\"https://colab.research.google.com/assets/colab-badge.svg\" alt=\"Open In Colab\"/></a>"
      ]
    },
    {
      "cell_type": "markdown",
      "source": [
        "# Data types and structures questions-\n",
        "1. What are data structures, and why are they important?\n",
        "\n",
        "-data structures are ways of organizing and storing data in a computer so that it can be accessed and modified efficiently.they are foundational to computer science and programming because they directly affect the performance and scalability of software.\n",
        "\n",
        "2. Explain the difference between mutable and immutable data types with examples?\n",
        "\n",
        "-mutable data types are the objects which can be modified after they are created for example list,dictionary and sets in python.\n",
        "\n",
        "immutable data types are the objects which cannot be changed after creation for example int,float,str,tuple in python.\n",
        "\n",
        "3. What are the main differences between lists and tuples in Python?\n",
        "\n",
        "-  list are mutable whereas tuples are immutable.\n",
        "   \n",
        "   tuples are faster as compared to list.\n",
        "\n",
        "   list have dynamic collection whereas tuples have fixed settings and functions.\n",
        "\n",
        "   list have square brackets whereas tuples have parentheses.\n",
        "\n",
        "   list don't allow dictionary keys whereas tuple allow it.\n",
        "\n",
        "4. Describe how dictionaries store data?\n",
        "\n",
        "-dictionaries in python store data using a key value structure,and they do this internally using a hash table.\n",
        "\n",
        "5. Why might you use a set instead of a list in Python?\n",
        "\n",
        "-sets only store unique elements but list allow duplicates,set check membership faster.set make it easy to do operations like union,intersection,and difference.\n",
        "\n",
        "6. What is a string in Python, and how is it different from a list?\n",
        "\n",
        "-A string in python is a sequence of characters,used to store and represent text.it's enclosed in quotes-either single(')or double(\").\n",
        "\n",
        "string works with texts whereas list work in collection of items.\n",
        "string is immutable but list is mutable.\n",
        "\n",
        "7. How do tuples ensure data integrity in Python?\n",
        "\n",
        "-tuples help ensure data integrity primarily through their immutability,once created,a tuple cannot be changed.this makes them ideal for storing fixed,unchangeable data and preventing accidental modifications.\n",
        "\n",
        "8. What is a hash table, and how does it relate to dictionaries in Python?\n",
        "\n",
        "-A hash table is a data structure that stores key value pairs and allows for fast access to data.it does this by using a hash function to compute an index into an internal array where the data is stored.\n",
        "\n",
        "a hash table is the engine behind python's dictionary.it uses hashing to provide fast lookups,insertion,and deletion.this is why dictionaries are one of the most powerful and efficient built in types in python.\n",
        "\n",
        "9. Can lists contain different data types in Python?\n",
        "\n",
        "-yes,unlike some languages that requries all element in a list to be the same type,python list are flexible and dynamic,allowing you to store a mix of data types in the same list.\n",
        "\n",
        "10. Explain why strings are immutable in Python?\n",
        "\n",
        "-string immutability enhances performances,safety and program correctness in python.\n",
        "\n",
        "11. What advantages do dictionaries offer over lists for certain tasks?\n",
        "\n",
        "- Fast Lookup by Key\n",
        "\n",
        "Dictionaries provide constant time (O(1)) average-case lookup for values using keys.\n",
        "\n",
        "Lists require linear time (O(n)) lookup if you're searching for an item or index by value.\n",
        "\n",
        "Key-Value Pairing\n",
        "\n",
        "Dictionaries store data as key-value pairs, which is great for mapping relationships.\n",
        "\n",
        "Lists only store sequences of values, which makes associating elements more cumbersome.\n",
        "\n",
        " Keys make code more readable and meaningful than index-based access in lists.\n",
        "\n",
        "With dictionaries, you don't have to manage or remember indices—just use meaningful keys.\n",
        "\n",
        "12. Describe a scenario where using a tuple would be preferable over a list.\n",
        "\n",
        "-Suppose you’re writing a function that calculates both the quotient and remainder of a division operation. You want to return both results to the caller.\n",
        "\n",
        "def divide(a, b):\n",
        "    quotient = a // b\n",
        "    remainder = a % b\n",
        "    return (quotient, remainder)\n",
        "\n",
        "\n",
        "And then use it like this:\n",
        "\n",
        "q, r = divide(10, 3)\n",
        "print(f\"Quotient: {q}, Remainder: {r}\")\n",
        "\n",
        "                                                |\n",
        "The result shouldn't change accidentally—tuples protect the data.\n",
        "You know there will always be exactly two values with fixed roles.\n",
        "Returning a tuple signals a structured, unchanging result.\n",
        "Tuples support clean, intuitive unpacking into variables.\n",
        "\n",
        "Use a tuple over a list when:\n",
        "\n",
        "You’re working with a fixed-size group of related values.\n",
        "\n",
        "The data should not be modified.\n",
        "\n",
        "You want clean unpacking into separate variables.\n",
        "\n",
        "You want to signal that the structure and order are important and constant.\n",
        "\n",
        "\n",
        "13. How do sets handle duplicate values in Python?\n",
        "\n",
        "-In Python, sets automatically remove duplicates. A set is an unordered collection of unique elements, so if you try to add a duplicate, it’s ignored.\n",
        "\n",
        "14. How does the “in” keyword work differently for lists and dictionaries?\n",
        "\n",
        "-The in keyword behaves differently for lists and dictionaries in Python because they are fundamentally different data structures.\n",
        "\n",
        " In Lists: Checks for Values\n",
        " In Dictionaries: Checks for Keys\n",
        "\n",
        "15. Can you modify the elements of a tuple? Explain why or why not.\n",
        "\n",
        "-No, you cannot modify the elements of a tuple in Python — tuples are immutable.\n",
        "\n",
        "Immutability means that once a tuple is created, its contents cannot be changed. This includes:\n",
        "\n",
        "You can't change individual elements.\n",
        "\n",
        "You can't add or remove elements.\n",
        "\n",
        "16. What is a nested dictionary, and give an example of its use case?\n",
        "\n",
        "-A nested dictionary is a dictionary inside another dictionary. It allows you to store hierarchical or structured data in a more organized way.\n",
        "\n",
        "Common Use Cases:\n",
        "\n",
        "User profiles with settings or permissions.\n",
        "\n",
        "JSON data structures.\n",
        "\n",
        "API responses.\n",
        "\n",
        "Game state tracking (e.g., players → inventory → items).\n",
        "\n",
        "17. Describe the time complexity of accessing elements in a dictionary.\n",
        "\n",
        "-Accessing elements in a Python dictionary is typically very fast due to its internal hash table implementation.\n",
        "\n",
        "Average Case: O(1) (Constant Time)\n",
        "When you access a value using a key:\n",
        "\n",
        "user = {'name': 'Alice', 'age': 30}\n",
        "print(user['age'])  # 30\n",
        "\n",
        "Python computes the hash of the key to find the correct location in memory.\n",
        "\n",
        "This operation generally takes constant time, regardless of the dictionary’s size.\n",
        "\n",
        " Worst Case: O(n) (Linear Time)\n",
        "\n",
        "This happens rarely, in cases like:\n",
        "\n",
        "Hash collisions: Multiple keys map to the same hash.\n",
        "\n",
        "Poor hash function performance or malicious input.\n",
        "\n",
        "In such cases, Python may need to scan multiple entries, degrading performance.\n",
        "\n",
        "18.In what situations are lists preferred over dictionaries?\n",
        "\n",
        "-Python lists are ideal in cases where you need a simple, ordered collection of items without the complexity of key-value pairs.\n",
        "\n",
        "19. Why are dictionaries considered unordered, and how does that affect data retrieval?\n",
        "\n",
        "-Dictionaries are logically unordered because access is by key, not by position.\n",
        "\n",
        "Even if they preserve insertion order, they are not a substitute for lists when position-based access is required.\n",
        "\n",
        "20. Explain the difference between a list and a dictionary in terms of data retrieval.\n",
        "\n",
        "-Lists store data in an ordered sequence.\n",
        "\n",
        " retrieve items using integer indexes (starting at 0).\n",
        "\n",
        " Dictionaries store data as key-value pairs.\n",
        "\n",
        " retrieve items using unique keys (e.g., strings, numbers, tuples).\n",
        "\n",
        "\n",
        "\n"
      ],
      "metadata": {
        "id": "0lGN8MI0wKiF"
      }
    },
    {
      "cell_type": "markdown",
      "source": [
        "# practical questions"
      ],
      "metadata": {
        "id": "rE4-5L1ZEwCn"
      }
    },
    {
      "cell_type": "code",
      "source": [
        "#1. Write a code to create a string with your name and print it.\n",
        "name ='kashish sharma'\n",
        "print(\"name: \",name)\n",
        "\n"
      ],
      "metadata": {
        "colab": {
          "base_uri": "https://localhost:8080/"
        },
        "id": "qVEqJuHeErtI",
        "outputId": "613541d5-7555-48be-83a7-ccefc9aed9ae"
      },
      "execution_count": 6,
      "outputs": [
        {
          "output_type": "stream",
          "name": "stdout",
          "text": [
            "name:  kashish sharma\n"
          ]
        }
      ]
    },
    {
      "cell_type": "code",
      "source": [
        "#2.Write a code to find the length of the string \"Hello World\".\n",
        "text =\"hello world\"\n",
        "length=len(text)\n",
        "print(\"length of the string is: \",length)"
      ],
      "metadata": {
        "colab": {
          "base_uri": "https://localhost:8080/"
        },
        "id": "mgQ0gNifEc2L",
        "outputId": "ddd64bfc-41d6-45f3-bb6e-9c24b24b80ed"
      },
      "execution_count": 8,
      "outputs": [
        {
          "output_type": "stream",
          "name": "stdout",
          "text": [
            "length of the string is:  11\n"
          ]
        }
      ]
    },
    {
      "cell_type": "code",
      "execution_count": 9,
      "metadata": {
        "colab": {
          "base_uri": "https://localhost:8080/"
        },
        "id": "YxcizA4dwBjj",
        "outputId": "dd9d050f-a0aa-44c4-f979-79336af0fbf3"
      },
      "outputs": [
        {
          "output_type": "stream",
          "name": "stdout",
          "text": [
            "First 3 characters: Pyt\n"
          ]
        }
      ],
      "source": [
        "#3. Write a code to slice the first 3 characters from the string \"Python Programming\"\n",
        "# Define the string\n",
        "text = \"Python Programming\"\n",
        "\n",
        "# Slice the first 3 characters\n",
        "first_three = text[:3]\n",
        "\n",
        "# Print the result\n",
        "print(\"First 3 characters:\", first_three)\n"
      ]
    },
    {
      "cell_type": "code",
      "source": [
        "#4.Write a code to convert the string \"hello\" to uppercase.\n",
        "# Define the string\n",
        "text = \"hello\"\n",
        "\n",
        "# Convert to uppercase\n",
        "uppercase_text = text.upper()\n",
        "\n",
        "# Print the result\n",
        "print(\"Uppercase version:\", uppercase_text)\n"
      ],
      "metadata": {
        "colab": {
          "base_uri": "https://localhost:8080/"
        },
        "id": "NUtXMzJ-HcHx",
        "outputId": "e39cf4ca-db40-4088-e3cc-1bf8204f9bb0"
      },
      "execution_count": 10,
      "outputs": [
        {
          "output_type": "stream",
          "name": "stdout",
          "text": [
            "Uppercase version: HELLO\n"
          ]
        }
      ]
    },
    {
      "cell_type": "code",
      "source": [
        "#5. Write a code to replace the word \"apple\" with \"orange\" in the string \"I like apple\"\n",
        "# Define the original string\n",
        "text = \"I like apple\"\n",
        "\n",
        "# Replace \"apple\" with \"orange\"\n",
        "new_text = text.replace(\"apple\", \"orange\")\n",
        "\n",
        "# Print the result\n",
        "print(\"Updated string:\", new_text)\n"
      ],
      "metadata": {
        "colab": {
          "base_uri": "https://localhost:8080/"
        },
        "id": "1Ae6AggiHtSZ",
        "outputId": "f605d979-67f2-492a-d332-6fcae848d7b0"
      },
      "execution_count": 11,
      "outputs": [
        {
          "output_type": "stream",
          "name": "stdout",
          "text": [
            "Updated string: I like orange\n"
          ]
        }
      ]
    },
    {
      "cell_type": "code",
      "source": [
        "#6. Write a code to create a list with numbers 1 to 5 and print it.\n",
        "numbers=(\"1,2,3,4,5\")\n",
        "print(\"list of numbers: \",numbers)"
      ],
      "metadata": {
        "colab": {
          "base_uri": "https://localhost:8080/"
        },
        "id": "S4fV0gk-H7BI",
        "outputId": "c2ba6761-9d4f-4fcd-888a-b3b0f7c19782"
      },
      "execution_count": 12,
      "outputs": [
        {
          "output_type": "stream",
          "name": "stdout",
          "text": [
            "list of numbers:  1,2,3,4,5\n"
          ]
        }
      ]
    },
    {
      "cell_type": "code",
      "source": [
        "#7. Write a code to append the number 10 to the list [1, 2, 3, 4]\n",
        "# Define the original list\n",
        "numbers = [1, 2, 3, 4]\n",
        "\n",
        "# Append 10 to the list\n",
        "numbers.append(10)\n",
        "\n",
        "# Print the updated list\n",
        "print(\"Updated list:\", numbers)\n",
        "\n"
      ],
      "metadata": {
        "colab": {
          "base_uri": "https://localhost:8080/"
        },
        "id": "7R_2gLvzIXDX",
        "outputId": "70b39133-de41-4fb5-f6b6-fc11fb362c21"
      },
      "execution_count": 20,
      "outputs": [
        {
          "output_type": "stream",
          "name": "stdout",
          "text": [
            "Updated list: [1, 2, 3, 4, 10]\n"
          ]
        }
      ]
    },
    {
      "cell_type": "code",
      "source": [
        "#8. Write a code to remove the number 3 from the list [1, 2, 3, 4, 5]\n",
        "numbers=[1,2,3,4,5]\n",
        "numbers.remove(3)\n",
        "print(\"updated list: \",numbers)"
      ],
      "metadata": {
        "colab": {
          "base_uri": "https://localhost:8080/"
        },
        "id": "rOkcxDUWIqds",
        "outputId": "5001a5af-f1a8-481f-a798-eb98eaf5d824"
      },
      "execution_count": 22,
      "outputs": [
        {
          "output_type": "stream",
          "name": "stdout",
          "text": [
            "updated list:  [1, 2, 4, 5]\n"
          ]
        }
      ]
    },
    {
      "cell_type": "code",
      "source": [
        "#9. Write a code to access the second element in the list ['a', 'b', 'c', 'd']\n",
        "# Define the list\n",
        "letters = ['a', 'b', 'c', 'd']\n",
        "\n",
        "# Access the second element (index 1)\n",
        "second_element = letters[1]\n",
        "\n",
        "# Print the result\n",
        "print(\"Second element:\", second_element)\n"
      ],
      "metadata": {
        "colab": {
          "base_uri": "https://localhost:8080/"
        },
        "id": "3IUantlJKZTY",
        "outputId": "7ec601b7-f035-4c7b-d330-40fec7e01b31"
      },
      "execution_count": 25,
      "outputs": [
        {
          "output_type": "stream",
          "name": "stdout",
          "text": [
            "Second element: b\n"
          ]
        }
      ]
    },
    {
      "cell_type": "code",
      "source": [
        "#10. Write a code to reverse the list [10, 20, 30, 40, 50].\n",
        "lst=[10,20,30,40,50]\n",
        "reverse=lst[::-1]\n",
        "print(\"reversed list: \",reverse)"
      ],
      "metadata": {
        "colab": {
          "base_uri": "https://localhost:8080/"
        },
        "id": "OHZlx13TLESx",
        "outputId": "8a37f2fa-e2c8-41f2-f9df-5a09de17616c"
      },
      "execution_count": 27,
      "outputs": [
        {
          "output_type": "stream",
          "name": "stdout",
          "text": [
            "reversed list:  [50, 40, 30, 20, 10]\n"
          ]
        }
      ]
    },
    {
      "cell_type": "code",
      "source": [
        "#11.Write a code to create a tuple with the elements 100, 200, 300 and print it.\n",
        "tuple=(100,200,300)\n",
        "print(\"tuples are: \",tuple)"
      ],
      "metadata": {
        "colab": {
          "base_uri": "https://localhost:8080/"
        },
        "id": "iny22NUVL0jo",
        "outputId": "b9c29c14-0a79-46c9-bb44-7ebc51cab571"
      },
      "execution_count": 28,
      "outputs": [
        {
          "output_type": "stream",
          "name": "stdout",
          "text": [
            "tuples are:  (100, 200, 300)\n"
          ]
        }
      ]
    },
    {
      "cell_type": "code",
      "source": [
        "#12. Write a code to access the second-to-last element of the tuple ('red', 'green', 'blue', 'yellow').\n",
        "# Define the tuple\n",
        "colors = ('red', 'green', 'blue', 'yellow')\n",
        "\n",
        "# Access the second-to-last element\n",
        "second_to_last = colors[-2]\n",
        "\n",
        "# Print the result\n",
        "print(\"Second-to-last element:\", second_to_last)\n",
        "\n"
      ],
      "metadata": {
        "colab": {
          "base_uri": "https://localhost:8080/"
        },
        "id": "UwbDubiwMTZi",
        "outputId": "1cfb521b-a25d-41b3-df16-a09f61b3fcc3"
      },
      "execution_count": 29,
      "outputs": [
        {
          "output_type": "stream",
          "name": "stdout",
          "text": [
            "Second-to-last element: blue\n"
          ]
        }
      ]
    },
    {
      "cell_type": "code",
      "source": [
        "#13. Write a code to find the minimum number in the tuple (10, 20, 5, 15).\n",
        "numbers=(10,20,5,15)\n",
        "minimum=min(numbers)\n",
        "print(\"minimum number is: \",minimum)"
      ],
      "metadata": {
        "colab": {
          "base_uri": "https://localhost:8080/"
        },
        "id": "5rtWtbE7MrnD",
        "outputId": "dc161496-b46e-4969-f2dd-a97d3aacc91a"
      },
      "execution_count": 30,
      "outputs": [
        {
          "output_type": "stream",
          "name": "stdout",
          "text": [
            "minimum number is:  5\n"
          ]
        }
      ]
    },
    {
      "cell_type": "code",
      "source": [
        "#14. Write a code to find the index of the element \"cat\" in the tuple ('dog', 'cat', 'rabbit').\n",
        "tuple=('dog','cat','rabbit')\n",
        "index=tuple.index('cat')\n",
        "print(\"index of cat: \",index)"
      ],
      "metadata": {
        "colab": {
          "base_uri": "https://localhost:8080/"
        },
        "id": "t42yLG85NE-G",
        "outputId": "c856f77b-9205-4b6a-8776-9ab3f728e45d"
      },
      "execution_count": 33,
      "outputs": [
        {
          "output_type": "stream",
          "name": "stdout",
          "text": [
            "index of cat:  1\n"
          ]
        }
      ]
    },
    {
      "cell_type": "code",
      "source": [
        "#15. Write a code to create a tuple containing three different fruits and check if \"kiwi\" is in it.\n",
        "fruits=(\"apple,mango,lichi\")\n",
        "if 'kiwi' in fruits:\n",
        "  print(\"kiwi is in it\")\n",
        "else:\n",
        "  print(\"kiwi is not in it\")"
      ],
      "metadata": {
        "colab": {
          "base_uri": "https://localhost:8080/"
        },
        "id": "bqptX4EGNg2c",
        "outputId": "539e9fa8-fe93-4b62-abc7-de4fec61ab3b"
      },
      "execution_count": 35,
      "outputs": [
        {
          "output_type": "stream",
          "name": "stdout",
          "text": [
            "kiwi is not in it\n"
          ]
        }
      ]
    },
    {
      "cell_type": "code",
      "source": [
        "#16. Write a code to create a set with the elements 'a', 'b', 'c' and print it.\n",
        "set={'a','b','c'}\n",
        "print(set)"
      ],
      "metadata": {
        "colab": {
          "base_uri": "https://localhost:8080/"
        },
        "id": "Lx5n7y5kOklT",
        "outputId": "abe97068-ee7d-4908-ef65-60ee0b8d242d"
      },
      "execution_count": 37,
      "outputs": [
        {
          "output_type": "stream",
          "name": "stdout",
          "text": [
            "{'b', 'a', 'c'}\n"
          ]
        }
      ]
    },
    {
      "cell_type": "code",
      "source": [
        "#17. Write a code to clear all elements from the set {1, 2, 3, 4, 5}.\n",
        "# Define the set\n",
        "numbers = {1, 2, 3, 4, 5}\n",
        "\n",
        "# Clear all elements from the set\n",
        "numbers.clear()\n",
        "\n",
        "# Print the result\n",
        "print(\"Cleared set:\", numbers)\n"
      ],
      "metadata": {
        "colab": {
          "base_uri": "https://localhost:8080/"
        },
        "id": "4xMJmUS8O4Hy",
        "outputId": "1e06e3ef-4c99-4346-da9e-4976766f9e1d"
      },
      "execution_count": 38,
      "outputs": [
        {
          "output_type": "stream",
          "name": "stdout",
          "text": [
            "Cleared set: set()\n"
          ]
        }
      ]
    },
    {
      "cell_type": "code",
      "source": [
        "#18. Write a code to remove the element 4 from the set {1, 2, 3, 4}.\n",
        "# Define the set\n",
        "numbers = {1, 2, 3, 4}\n",
        "\n",
        "# Remove the element 4\n",
        "numbers.remove(4)\n",
        "\n",
        "# Print the updated set\n",
        "print(\"Updated set:\", numbers)\n"
      ],
      "metadata": {
        "colab": {
          "base_uri": "https://localhost:8080/"
        },
        "id": "LRfiODR0PVw0",
        "outputId": "6fca6d2e-143c-4edd-e417-e16fef76a72b"
      },
      "execution_count": 42,
      "outputs": [
        {
          "output_type": "stream",
          "name": "stdout",
          "text": [
            "Updated set: {1, 2, 3}\n"
          ]
        }
      ]
    },
    {
      "cell_type": "code",
      "source": [
        "#19. Write a code to find the union of two sets {1, 2, 3} and {3, 4, 5}.\n",
        "# Define the sets\n",
        "set1 = {1, 2, 3}\n",
        "set2 = {3, 4, 5}\n",
        "\n",
        "# Find the union\n",
        "union_set = set1.union(set2)\n",
        "\n",
        "# Print the result\n",
        "print(\"Union of the sets:\", union_set)\n"
      ],
      "metadata": {
        "colab": {
          "base_uri": "https://localhost:8080/"
        },
        "id": "GOF4l2G-PqOf",
        "outputId": "c97fef2f-3988-4823-c927-ea791036be16"
      },
      "execution_count": 43,
      "outputs": [
        {
          "output_type": "stream",
          "name": "stdout",
          "text": [
            "Union of the sets: {1, 2, 3, 4, 5}\n"
          ]
        }
      ]
    },
    {
      "cell_type": "code",
      "source": [
        "#20. Write a code to find the intersection of two sets {1, 2, 3} and {2, 3, 4}.\n",
        "# Define the sets\n",
        "set1 = {1, 2, 3}\n",
        "set2 = {2, 3, 4}\n",
        "\n",
        "# Find the intersection\n",
        "intersection_set = set1.intersection(set2)\n",
        "\n",
        "# Print the result\n",
        "print(\"Intersection of the sets:\", intersection_set)\n"
      ],
      "metadata": {
        "colab": {
          "base_uri": "https://localhost:8080/"
        },
        "id": "nfx5yKhUQOMi",
        "outputId": "f1ac454f-1417-4471-eeaf-2653e9d8412d"
      },
      "execution_count": 44,
      "outputs": [
        {
          "output_type": "stream",
          "name": "stdout",
          "text": [
            "Intersection of the sets: {2, 3}\n"
          ]
        }
      ]
    },
    {
      "cell_type": "code",
      "source": [
        "#21. Write a code to create a dictionary with the keys \"name\", \"age\", and \"city\", and print it.\n",
        "# Create the dictionary\n",
        "person = {\n",
        "    \"name\": \"kashish\",\n",
        "    \"age\": 20,\n",
        "    \"city\": \"durg\"\n",
        "}\n",
        "\n",
        "# Print the dictionary\n",
        "print(\"Person dictionary:\", person)\n"
      ],
      "metadata": {
        "colab": {
          "base_uri": "https://localhost:8080/"
        },
        "id": "ldTHshgNQYrC",
        "outputId": "d74252f4-a3e2-48ec-90a1-753d1d16c770"
      },
      "execution_count": 45,
      "outputs": [
        {
          "output_type": "stream",
          "name": "stdout",
          "text": [
            "Person dictionary: {'name': 'kashish', 'age': 20, 'city': 'durg'}\n"
          ]
        }
      ]
    },
    {
      "cell_type": "code",
      "source": [
        "#22. Write a code to add a new key-value pair \"country\": \"USA\" to the dictionary {'name': 'John', 'age': 25}.\n",
        "# Original dictionary\n",
        "person = {'name': 'John', 'age': 25}\n",
        "\n",
        "# Add new key-value pair\n",
        "person['country'] = 'USA'\n",
        "\n",
        "# Print the updated dictionary\n",
        "print(\"Updated dictionary:\", person)\n"
      ],
      "metadata": {
        "colab": {
          "base_uri": "https://localhost:8080/"
        },
        "id": "bbemsokhQsVR",
        "outputId": "f3e65180-a35c-48b8-fb12-2b2dc17a1304"
      },
      "execution_count": 46,
      "outputs": [
        {
          "output_type": "stream",
          "name": "stdout",
          "text": [
            "Updated dictionary: {'name': 'John', 'age': 25, 'country': 'USA'}\n"
          ]
        }
      ]
    },
    {
      "cell_type": "code",
      "source": [
        "#23. Write a code to access the value associated with the key \"name\" in the dictionary {'name': 'Alice', 'age': 30}.\n",
        "# Define the dictionary\n",
        "person = {'name': 'Alice', 'age': 30}\n",
        "\n",
        "# Access the value for key \"name\"\n",
        "name_value = person['name']\n",
        "\n",
        "# Print the value\n",
        "print(\"Value associated with 'name':\", name_value)\n"
      ],
      "metadata": {
        "colab": {
          "base_uri": "https://localhost:8080/"
        },
        "id": "NaHL41jpQ5pc",
        "outputId": "7d6cff37-391e-42a3-929c-c66192ab0034"
      },
      "execution_count": 47,
      "outputs": [
        {
          "output_type": "stream",
          "name": "stdout",
          "text": [
            "Value associated with 'name': Alice\n"
          ]
        }
      ]
    },
    {
      "cell_type": "code",
      "source": [
        "#24. Write a code to remove the key \"age\" from the dictionary {'name': 'Bob', 'age': 22, 'city': 'New York'}.\n",
        "# Define the dictionary\n",
        "person = {'name': 'Bob', 'age': 22, 'city': 'New York'}\n",
        "\n",
        "# Remove the key \"age\"\n",
        "person.pop('age')\n",
        "\n",
        "# Print the updated dictionary\n",
        "print(\"Updated dictionary:\", person)\n"
      ],
      "metadata": {
        "colab": {
          "base_uri": "https://localhost:8080/"
        },
        "id": "bokvAayYRGEn",
        "outputId": "8dbcbcbf-4848-40b0-8e69-b1ec30e7407a"
      },
      "execution_count": 48,
      "outputs": [
        {
          "output_type": "stream",
          "name": "stdout",
          "text": [
            "Updated dictionary: {'name': 'Bob', 'city': 'New York'}\n"
          ]
        }
      ]
    },
    {
      "cell_type": "code",
      "source": [
        "#25. Write a code to check if the key \"city\" exists in the dictionary {'name': 'Alice', 'city': 'Paris'}\n",
        "# Define the dictionary\n",
        "person = {'name': 'Alice', 'city': 'Paris'}\n",
        "\n",
        "# Check if the key \"city\" exists\n",
        "if 'city' in person:\n",
        "    print(\"Key 'city' exists in the dictionary.\")\n",
        "else:\n",
        "    print(\"Key 'city' does not exist in the dictionary.\")\n"
      ],
      "metadata": {
        "colab": {
          "base_uri": "https://localhost:8080/"
        },
        "id": "eGj-jebnRReh",
        "outputId": "11564bba-d11e-474c-98e3-e6c140b56b67"
      },
      "execution_count": 49,
      "outputs": [
        {
          "output_type": "stream",
          "name": "stdout",
          "text": [
            "Key 'city' exists in the dictionary.\n"
          ]
        }
      ]
    },
    {
      "cell_type": "code",
      "source": [
        "#26. Write a code to create a list, a tuple, and a dictionary, and print them all.\n",
        "# Create a list\n",
        "my_list = [1, 2, 3]\n",
        "\n",
        "# Create a tuple\n",
        "my_tuple = ('a', 'b', 'c')\n",
        "\n",
        "# Create a dictionary\n",
        "my_dict = {'name': 'Alice', 'age': 30}\n",
        "\n",
        "# Print all of them\n",
        "print(\"List:\", my_list)\n",
        "print(\"Tuple:\", my_tuple)\n",
        "print(\"Dictionary:\", my_dict)\n"
      ],
      "metadata": {
        "colab": {
          "base_uri": "https://localhost:8080/"
        },
        "id": "sGmyTpvIRcZ3",
        "outputId": "fc883e31-2a0a-4fb5-9c12-6866b39d5c7d"
      },
      "execution_count": 50,
      "outputs": [
        {
          "output_type": "stream",
          "name": "stdout",
          "text": [
            "List: [1, 2, 3]\n",
            "Tuple: ('a', 'b', 'c')\n",
            "Dictionary: {'name': 'Alice', 'age': 30}\n"
          ]
        }
      ]
    },
    {
      "cell_type": "code",
      "source": [
        "#27. Write a code to create a list of 5 random numbers between 1 and 100, sort it in ascending order, and print the result(replaced)\n",
        "import random\n",
        "\n",
        "# Create list of 5 random numbers between 1 and 100\n",
        "numbers = [random.randint(1, 100) for _ in range(5)]\n",
        "\n",
        "# Sort the list in ascending order\n",
        "numbers.sort()\n",
        "\n",
        "# Print the sorted list\n",
        "print(\"Sorted list of random numbers:\", numbers)\n",
        "\n",
        "\n",
        "\n"
      ],
      "metadata": {
        "colab": {
          "base_uri": "https://localhost:8080/"
        },
        "id": "B5mugswPRmex",
        "outputId": "559889d0-8f3a-4992-c638-6c25e7ba4db2"
      },
      "execution_count": 54,
      "outputs": [
        {
          "output_type": "stream",
          "name": "stdout",
          "text": [
            "Sorted list of random numbers: [20, 28, 45, 74, 98]\n"
          ]
        }
      ]
    },
    {
      "cell_type": "code",
      "source": [
        "#28. Write a code to create a list with strings and print the element at the third index\n",
        "# Create a list of strings\n",
        "my_list = [\"apple\", \"banana\", \"cherry\", \"date\", \"elderberry\"]\n",
        "\n",
        "# Access and print the element at the third index\n",
        "print(\"Element at index 3:\", my_list[3])\n",
        "\n"
      ],
      "metadata": {
        "colab": {
          "base_uri": "https://localhost:8080/"
        },
        "id": "lrkEnVzvR9nF",
        "outputId": "947a2d54-398e-4e86-dc57-206e7048af26"
      },
      "execution_count": 55,
      "outputs": [
        {
          "output_type": "stream",
          "name": "stdout",
          "text": [
            "Element at index 3: date\n"
          ]
        }
      ]
    },
    {
      "cell_type": "code",
      "source": [
        "#29. Write a code to combine two dictionaries into one and print the result\n",
        "# Define two dictionaries\n",
        "dict1 = {'name': 'Alice', 'age': 25}\n",
        "dict2 = {'city': 'New York', 'job': 'Engineer'}\n",
        "\n",
        "# Combine dictionaries\n",
        "combined_dict = {**dict1, **dict2}\n",
        "\n",
        "# Print the combined dictionary\n",
        "print(\"Combined dictionary:\", combined_dict)\n"
      ],
      "metadata": {
        "colab": {
          "base_uri": "https://localhost:8080/"
        },
        "id": "hzEMQO-pS6nJ",
        "outputId": "69e943f6-6d51-4e16-8eab-88132f59cf5a"
      },
      "execution_count": 56,
      "outputs": [
        {
          "output_type": "stream",
          "name": "stdout",
          "text": [
            "Combined dictionary: {'name': 'Alice', 'age': 25, 'city': 'New York', 'job': 'Engineer'}\n"
          ]
        }
      ]
    },
    {
      "cell_type": "code",
      "source": [
        "#30. Write a code to convert a list of strings into a set\n",
        "str={'1','2','2','3'}\n",
        "set1=(str)\n",
        "type(set1)\n"
      ],
      "metadata": {
        "colab": {
          "base_uri": "https://localhost:8080/"
        },
        "id": "5e0ZdiDXVIw6",
        "outputId": "898317e7-0127-40af-d227-7cf4644e115b"
      },
      "execution_count": 80,
      "outputs": [
        {
          "output_type": "execute_result",
          "data": {
            "text/plain": [
              "set"
            ]
          },
          "metadata": {},
          "execution_count": 80
        }
      ]
    },
    {
      "cell_type": "code",
      "source": [],
      "metadata": {
        "id": "xPieygr_XAeD"
      },
      "execution_count": null,
      "outputs": []
    }
  ]
}